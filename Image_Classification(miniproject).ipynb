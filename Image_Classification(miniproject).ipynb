{
  "nbformat": 4,
  "nbformat_minor": 0,
  "metadata": {
    "colab": {
      "name": "Image Classification(miniproject).ipynb",
      "provenance": [],
      "collapsed_sections": [],
      "mount_file_id": "1Hhe8R5l2-WJs8YIy2Rik3-BI-Dt6KAC6",
      "authorship_tag": "ABX9TyMx42jtw71dJ6+g67Qe07PK",
      "include_colab_link": true
    },
    "kernelspec": {
      "name": "python3",
      "display_name": "Python 3"
    },
    "language_info": {
      "name": "python"
    }
  },
  "cells": [
    {
      "cell_type": "markdown",
      "metadata": {
        "id": "view-in-github",
        "colab_type": "text"
      },
      "source": [
        "<a href=\"https://colab.research.google.com/github/sammmy047/miniproject/blob/main/Image_Classification(miniproject).ipynb\" target=\"_parent\"><img src=\"https://colab.research.google.com/assets/colab-badge.svg\" alt=\"Open In Colab\"/></a>"
      ]
    },
    {
      "cell_type": "code",
      "metadata": {
        "colab": {
          "base_uri": "https://localhost:8080/"
        },
        "id": "05s-hbZt-5re",
        "outputId": "f7048118-6b9e-4350-a2f2-a84df036f945"
      },
      "source": [
        "!pip install bing-image-downloader\n"
      ],
      "execution_count": 2,
      "outputs": [
        {
          "output_type": "stream",
          "text": [
            "Collecting bing-image-downloader\n",
            "  Downloading https://files.pythonhosted.org/packages/c2/04/1872a689a30036aa0b81ac9fca124a7413cad71fdab714f727cf1a34b671/bing_image_downloader-1.1.1-py3-none-any.whl\n",
            "Installing collected packages: bing-image-downloader\n",
            "Successfully installed bing-image-downloader-1.1.1\n"
          ],
          "name": "stdout"
        }
      ]
    },
    {
      "cell_type": "code",
      "metadata": {
        "colab": {
          "base_uri": "https://localhost:8080/"
        },
        "id": "7ylPLfng_FYe",
        "outputId": "09d5881d-1dd1-407f-b6cc-a89482961cc9"
      },
      "source": [
        "!mkdir images\n"
      ],
      "execution_count": 4,
      "outputs": [
        {
          "output_type": "stream",
          "text": [
            "mkdir: cannot create directory ‘images’: File exists\n"
          ],
          "name": "stdout"
        }
      ]
    },
    {
      "cell_type": "code",
      "metadata": {
        "id": "MIFK4-l-CNNE",
        "colab": {
          "base_uri": "https://localhost:8080/"
        },
        "outputId": "4d9854a5-7c52-4dda-bbe5-fe2d8b63dcc6"
      },
      "source": [
        "from bing_image_downloader import downloader\n",
        "downloader.download(\"pretty rose\",limit=50,output_dir='images',adult_filter_off=True)\n",
        "downloader.download(\"ice cream cone\",limit=50,output_dir='images',\n",
        "                    adult_filter_off=True)\n"
      ],
      "execution_count": 5,
      "outputs": [
        {
          "output_type": "stream",
          "text": [
            "[%] Downloading Images to /content/images/pretty rose\n",
            "\n",
            "\n",
            "[!!]Indexing page: 1\n",
            "\n",
            "[%] Indexed 50 Images on Page 1.\n",
            "\n",
            "===============================================\n",
            "\n",
            "[%] Downloading Image #1 from https://d2ieorefj5ilau.cloudfront.net/uploads/production/001/100/535/medium/8BE710B4-448C-44ED-BFED-B1E188C70390.jpeg\n",
            "[%] File Downloaded !\n",
            "\n",
            "[%] Downloading Image #2 from https://i.pinimg.com/originals/6a/10/5a/6a105ae189cb97ea0bca9b30e137fa6f.jpg\n",
            "[%] File Downloaded !\n",
            "\n",
            "[%] Downloading Image #3 from https://d2ieorefj5ilau.cloudfront.net/uploads/production/001/142/785/medium/AP_20True_20Rose_20Story_20red_20(6).jpeg\n",
            "[%] File Downloaded !\n",
            "\n",
            "[%] Downloading Image #4 from https://d2ieorefj5ilau.cloudfront.net/uploads/production/001/142/787/medium/AP_20True_20Rose_20Story_20red_20(7).jpeg\n",
            "[%] File Downloaded !\n",
            "\n",
            "[%] Downloading Image #5 from https://d2ieorefj5ilau.cloudfront.net/uploads/production/000/937/979/medium/535A9E5F-BF09-45E5-AA9F-858E8745D047.jpeg\n",
            "[%] File Downloaded !\n",
            "\n",
            "[%] Downloading Image #6 from https://d2ieorefj5ilau.cloudfront.net/uploads/production/001/142/784/medium/AP_20True_20Rose_20Story_20red.jpeg\n",
            "[%] File Downloaded !\n",
            "\n",
            "[%] Downloading Image #7 from https://d2ieorefj5ilau.cloudfront.net/uploads/production/001/142/786/medium/AP_20True_20Rose_20Story_20red_20(5).jpeg\n",
            "[%] File Downloaded !\n",
            "\n",
            "[%] Downloading Image #8 from https://d2ieorefj5ilau.cloudfront.net/uploads/production/000/937/987/medium/98423E0B-1673-4894-B2D1-83BEA04BEF48.png\n",
            "[%] File Downloaded !\n",
            "\n",
            "[%] Downloading Image #9 from https://d2ieorefj5ilau.cloudfront.net/uploads/production/001/074/506/medium/5DDCF613-5E5E-4750-BE1B-7BE5AC5C1B7B.jpeg\n",
            "[%] File Downloaded !\n",
            "\n",
            "[%] Downloading Image #10 from https://d2ieorefj5ilau.cloudfront.net/uploads/production/001/145/210/medium/6E23994C-B300-4905-BC52-B56AB784C5E9.png\n",
            "[%] File Downloaded !\n",
            "\n",
            "[%] Downloading Image #11 from https://i.pinimg.com/474x/dd/ca/cb/ddcacbed99ec2f4e31e6b7da439d4a2e.jpg\n",
            "[%] File Downloaded !\n",
            "\n",
            "[%] Downloading Image #12 from https://d2ieorefj5ilau.cloudfront.net/uploads/production/001/045/843/medium/0F56B9B2-0B08-4FAB-AAFA-4A0039E03202.jpeg\n",
            "[%] File Downloaded !\n",
            "\n",
            "[%] Downloading Image #13 from https://i.pinimg.com/originals/a8/e3/fe/a8e3fec156390745d84a92a8d1414d99.jpg\n",
            "[%] File Downloaded !\n",
            "\n",
            "[%] Downloading Image #14 from https://d2ieorefj5ilau.cloudfront.net/uploads/production/000/455/883/medium/IMG_0703.JPG\n",
            "[%] File Downloaded !\n",
            "\n",
            "[%] Downloading Image #15 from https://d2ieorefj5ilau.cloudfront.net/uploads/production/001/142/789/medium/AP_20True_20Rose_20Story_20red_20(4).jpeg\n",
            "[%] File Downloaded !\n",
            "\n",
            "[%] Downloading Image #16 from https://i.pinimg.com/originals/0a/de/3a/0ade3a2bf0ac6231567a741ba7fd74d0.jpg\n",
            "[%] File Downloaded !\n",
            "\n",
            "[%] Downloading Image #17 from https://2.bp.blogspot.com/-CrOXSoy5c8k/WCXP_sdzswI/AAAAAAAAC1M/ghE12Rs614cG3apzKpIItmTbYu34BDcogCLcB/s1600/aw_trs.jpg\n",
            "[%] File Downloaded !\n",
            "\n",
            "[%] Downloading Image #18 from https://d2ieorefj5ilau.cloudfront.net/uploads/production/001/142/783/medium/AP_20True_20Rose_20Story_20stock_20photo_20red_20top.jpeg\n",
            "[%] File Downloaded !\n",
            "\n",
            "[%] Downloading Image #19 from https://i.pinimg.com/474x/c9/5e/05/c95e0531f02af05170ee8560d9046cb9--angelic-pretty-cute.jpg\n",
            "[%] File Downloaded !\n",
            "\n",
            "[%] Downloading Image #20 from https://lolibrary.nyc3.cdn.digitaloceanspaces.com/images/16d9b9e7-0cdf-57e5-85b2-3577ce8f79b5.jpeg?width=300&amp;height=300&amp;fit=bounds\n",
            "[%] File Downloaded !\n",
            "\n",
            "[%] Downloading Image #21 from https://d2ieorefj5ilau.cloudfront.net/uploads/production/000/392/582/medium/image.jpeg\n",
            "[%] File Downloaded !\n",
            "\n",
            "[%] Downloading Image #22 from https://d2ieorefj5ilau.cloudfront.net/uploads/production/001/145/208/medium/6EAA0678-213B-48BA-BF1C-E1C22855EFBC.png\n",
            "[%] File Downloaded !\n",
            "\n",
            "[%] Downloading Image #23 from https://d2ieorefj5ilau.cloudfront.net/uploads/production/001/045/842/medium/763DE178-2DD7-46C2-AE68-95A50246EC08.jpeg\n",
            "[%] File Downloaded !\n",
            "\n",
            "[%] Downloading Image #24 from https://i.pinimg.com/originals/d3/7f/31/d37f3144859176d8e5cbd46e7e8ac89b.png\n",
            "[%] File Downloaded !\n",
            "\n",
            "[%] Downloading Image #25 from https://d2ieorefj5ilau.cloudfront.net/uploads/production/000/392/580/medium/image.jpeg\n",
            "[%] File Downloaded !\n",
            "\n",
            "[%] Downloading Image #26 from https://lolibrary.nyc3.cdn.digitaloceanspaces.com/images/16669cb2-6437-5bb8-84c8-194f90199a51.jpeg?width=300&amp;height=300&amp;fit=bounds\n",
            "[%] File Downloaded !\n",
            "\n",
            "[%] Downloading Image #27 from https://d2ieorefj5ilau.cloudfront.net/uploads/production/000/392/579/medium/image.jpeg\n",
            "[%] File Downloaded !\n",
            "\n",
            "[%] Downloading Image #28 from https://i.etsystatic.com/5820704/r/il/9c19e7/450469010/il_1588xN.450469010_q1dt.jpg\n",
            "[Error]Invalid image, not saving https://i.etsystatic.com/5820704/r/il/9c19e7/450469010/il_1588xN.450469010_q1dt.jpg\n",
            "\n",
            "[!] Issue getting: https://i.etsystatic.com/5820704/r/il/9c19e7/450469010/il_1588xN.450469010_q1dt.jpg\n",
            "[!] Error:: Invalid image, not saving https://i.etsystatic.com/5820704/r/il/9c19e7/450469010/il_1588xN.450469010_q1dt.jpg\n",
            "\n",
            "[%] Downloading Image #28 from https://d2ieorefj5ilau.cloudfront.net/uploads/production/001/045/841/medium/FC701457-CFE8-4F10-8A71-D8F548913EE1.jpeg\n",
            "[%] File Downloaded !\n",
            "\n",
            "[%] Downloading Image #29 from https://d2ieorefj5ilau.cloudfront.net/uploads/production/001/142/788/medium/AP_20True_20Rose_20Story_20red_20(8).jpeg\n",
            "[%] File Downloaded !\n",
            "\n",
            "[%] Downloading Image #30 from https://d2ieorefj5ilau.cloudfront.net/uploads/production/001/145/209/medium/9C105729-2CAE-4C00-AFAC-5375C340029A.png\n",
            "[%] File Downloaded !\n",
            "\n",
            "[%] Downloading Image #31 from https://i.pinimg.com/originals/50/5b/44/505b447ebfae388e086c54a331252057.jpg\n",
            "[%] File Downloaded !\n",
            "\n",
            "[%] Downloading Image #32 from https://i.pinimg.com/originals/74/c4/56/74c456f4305e29df58ff1fcf4ebed13c.png\n",
            "[%] File Downloaded !\n",
            "\n",
            "[%] Downloading Image #33 from https://www.platin.com.tr/Uploads/UrunResimleri/buyuk/pretty-stay-true-lip-gloss-rose-gold-d692.jpg\n",
            "[%] File Downloaded !\n",
            "\n",
            "[%] Downloading Image #34 from https://d2ieorefj5ilau.cloudfront.net/uploads/production/000/392/583/medium/image.jpeg\n",
            "[%] File Downloaded !\n",
            "\n",
            "[%] Downloading Image #35 from https://cdn.shopify.com/s/files/1/0156/5500/products/true-sliced-diamond-ear-climbers-rose-gold-815744_600x.jpg?v=1588946053\n",
            "[%] File Downloaded !\n",
            "\n",
            "[%] Downloading Image #36 from https://www.gardenfactoryny.com/media/catalog/product/cache/b456f9c06a31f834e13ba33f49c2d862/1/5/152085_iXgmC7xdydnBRH3e.jpeg\n",
            "[%] File Downloaded !\n",
            "\n",
            "[%] Downloading Image #37 from http://3.bp.blogspot.com/-x3EqC8hxN_c/UVF8WJREQeI/AAAAAAAAP8M/L3zNHy-FbeA/w1200-h630-p-k-no-nu/Avon+Lipstick+Color+Bliss+Simply+Pretty+true+rose.jpg\n",
            "[%] File Downloaded !\n",
            "\n",
            "[%] Downloading Image #38 from https://i.pinimg.com/originals/7f/8d/a1/7f8da1c70bf77d6dc785e4ca2c0387e1.jpg\n",
            "[%] File Downloaded !\n",
            "\n",
            "[%] Downloading Image #39 from http://4.bp.blogspot.com/-faz_fqMsRsk/UVF8rIM9OtI/AAAAAAAAP8k/ldc7-eXJWxA/s1600/Avon+Lipstick+Color+Bliss+Simply+Pretty+swatches.jpg\n",
            "[%] File Downloaded !\n",
            "\n",
            "[%] Downloading Image #40 from https://200.com.ng/wp-content/uploads/2020/12/75ml-Beautiful-Women-s-Perfume-Life-True-Love-Rose-Perfume-Lasting-Perfume-Great-Gift-for-Girls-2.jpg\n",
            "[%] File Downloaded !\n",
            "\n",
            "[%] Downloading Image #41 from https://i.pinimg.com/originals/dd/5f/81/dd5f8161f6eb132b527f32881c22ab4d.png\n",
            "[%] File Downloaded !\n",
            "\n",
            "[%] Downloading Image #42 from https://i.pinimg.com/originals/d6/de/f1/d6def1939703699dcc99f426ee0a3eca.jpg\n",
            "[%] File Downloaded !\n",
            "\n",
            "[%] Downloading Image #43 from https://i.pinimg.com/originals/35/fe/ed/35feed534a62d8ca6546523e0dc8c5a4.jpg\n",
            "[%] File Downloaded !\n",
            "\n",
            "[%] Downloading Image #44 from https://i.pinimg.com/originals/20/00/54/200054f1df023b69005bdc70efcbb6bb.jpg\n",
            "[%] File Downloaded !\n",
            "\n",
            "[%] Downloading Image #45 from https://i.pinimg.com/originals/ba/5c/d3/ba5cd3b1c5070cc5dd0023d8feb7e58b.jpg\n",
            "[%] File Downloaded !\n",
            "\n",
            "[%] Downloading Image #46 from https://i.pinimg.com/originals/2b/5a/1a/2b5a1aeaab2eaa521b965900ec41e5dd.jpg\n",
            "[%] File Downloaded !\n",
            "\n",
            "[%] Downloading Image #47 from https://i.pinimg.com/736x/35/4a/ed/354aed9e9a761e2115f7597672b3cad2--dream-come-true-rose-bush.jpg\n",
            "[%] File Downloaded !\n",
            "\n",
            "[%] Downloading Image #48 from http://www.whiteflowerfarm.com/mas_assets/cache/image/6/2/f/1583.Jpg\n",
            "[%] File Downloaded !\n",
            "\n",
            "[%] Downloading Image #49 from https://i.pinimg.com/originals/f2/01/57/f201574c8705365b2c3e182953f765f2.jpg\n",
            "[%] File Downloaded !\n",
            "\n",
            "\n",
            "\n",
            "[!!]Indexing page: 2\n",
            "\n",
            "[%] Indexed 35 Images on Page 2.\n",
            "\n",
            "===============================================\n",
            "\n",
            "[%] Downloading Image #50 from https://d2ieorefj5ilau.cloudfront.net/uploads/production/001/100/535/medium/8BE710B4-448C-44ED-BFED-B1E188C70390.jpeg\n",
            "[%] File Downloaded !\n",
            "\n",
            "\n",
            "\n",
            "[%] Done. Downloaded 50 images.\n",
            "===============================================\n",
            "\n",
            "Please show your support here\n",
            "https://www.buymeacoffee.com/gurugaurav\n",
            "\n",
            "===============================================\n",
            "\n",
            "[%] Downloading Images to /content/images/ice cream cone\n",
            "\n",
            "\n",
            "[!!]Indexing page: 1\n",
            "\n",
            "[%] Indexed 50 Images on Page 1.\n",
            "\n",
            "===============================================\n",
            "\n",
            "[%] Downloading Image #1 from http://americacomesalive.com/i/ice-cream-cone.jpg\n",
            "[%] File Downloaded !\n",
            "\n",
            "[%] Downloading Image #2 from https://i.pinimg.com/originals/d3/50/79/d35079e997bb6c1650fd1f38236905ee.jpg\n",
            "[%] File Downloaded !\n",
            "\n",
            "[%] Downloading Image #3 from http://graphics8.nytimes.com/images/2013/06/02/magazine/02wmt/02wmt-superJumbo-v3.jpg\n",
            "[%] File Downloaded !\n",
            "\n",
            "[%] Downloading Image #4 from https://i.pinimg.com/originals/ca/1e/10/ca1e10b37bb39a2f0730b0e58dc4eb5b.jpg\n",
            "[%] File Downloaded !\n",
            "\n",
            "[%] Downloading Image #5 from https://mysunshineroom.com/_Media/dipped-ice-cream-cones-7_med_hr.jpeg\n",
            "[%] File Downloaded !\n",
            "\n",
            "[%] Downloading Image #6 from https://i.pinimg.com/originals/30/82/47/308247baf3f4c1c0ff20155071ea8b2a.jpg\n",
            "[%] File Downloaded !\n",
            "\n",
            "[%] Downloading Image #7 from http://www.imagineoutloud.net/uploads/3/9/7/7/39773846/s432273583225059501_p963_i29_w2560.jpeg\n",
            "[%] File Downloaded !\n",
            "\n",
            "[%] Downloading Image #8 from https://americacomesalive.com/i/Ice_cream_cone_.jpg\n",
            "[%] File Downloaded !\n",
            "\n",
            "[%] Downloading Image #9 from https://i.pinimg.com/originals/98/47/01/984701c581bd0ca44723adae27c4dea3.jpg\n",
            "[%] File Downloaded !\n",
            "\n",
            "[%] Downloading Image #10 from http://bodeansbaking.com/blog/wp-content/uploads/2015/05/Con-and-Cup-e1431449561940.jpg\n",
            "[%] File Downloaded !\n",
            "\n",
            "[%] Downloading Image #11 from https://i.pinimg.com/originals/e8/4c/af/e84cafe31da4e80a7388dc34cd5fe99d.jpg\n",
            "[%] File Downloaded !\n",
            "\n",
            "[%] Downloading Image #12 from https://i.pinimg.com/originals/88/31/6e/88316e3f05ed6fc59a55f1d362116fd2.jpg\n",
            "[%] File Downloaded !\n",
            "\n",
            "[%] Downloading Image #13 from https://hips.hearstapps.com/cos.h-cdn.co/assets/16/09/1600x800/landscape-1456849006-ice-cream-doughnuts.jpg?resize=1200:*\n",
            "[%] File Downloaded !\n",
            "\n",
            "[%] Downloading Image #14 from https://brooklynbased.com/wp-content/uploads/2019/04/Salt.png\n",
            "[%] File Downloaded !\n",
            "\n",
            "[%] Downloading Image #15 from https://img1.southernliving.timeinc.net/sites/default/files/styles/4_3_horizontal_-_1200x900/public/image/2017/07/main/ice-cream-cones.jpg?itok=9I9Q7gKA\n",
            "[%] File Downloaded !\n",
            "\n",
            "[%] Downloading Image #16 from https://s-media-cache-ak0.pinimg.com/736x/d1/8e/b7/d18eb76818d21da7b09bc52f5354eb85.jpg\n",
            "[%] File Downloaded !\n",
            "\n",
            "[%] Downloading Image #17 from https://www.mtlblog.com/uploads/ca3519bc653451966ae421d42cf157b9d74aba5d.png\n",
            "[%] File Downloaded !\n",
            "\n",
            "[%] Downloading Image #18 from https://spoonuniversity.com/wp-content/uploads/2016/03/IMG_9539.jpg\n",
            "[%] File Downloaded !\n",
            "\n",
            "[%] Downloading Image #19 from https://s3.amazonaws.com/img.kh-labs.com/UtpaOM5c5f00f40a2487.33151121\n",
            "[%] File Downloaded !\n",
            "\n",
            "[%] Downloading Image #20 from https://www.mcgill.ca/oss/files/oss/styles/hd/public/icecream.jpg?itok=ff2ErbiH&amp;timestamp=1502223205\n",
            "[%] File Downloaded !\n",
            "\n",
            "[%] Downloading Image #21 from https://www.leisure-italy.com/wp-content/uploads/2019/01/Gelato-1.jpg\n",
            "[%] File Downloaded !\n",
            "\n",
            "[%] Downloading Image #22 from http://3.bp.blogspot.com/-97EAP1k7BwU/UaV-ebhG2UI/AAAAAAAAD6M/YEODPmLn09M/s1600/sprinkle+cookies+ice+cream+cone.JPG\n",
            "[%] File Downloaded !\n",
            "\n",
            "[%] Downloading Image #23 from https://womanitely.com/wp-content/uploads/2016/12/Ice-cream-surprise.jpg\n",
            "[%] File Downloaded !\n",
            "\n",
            "[%] Downloading Image #24 from https://americacomesalive.com/i/waffle-cones-getty.jpg\n",
            "[%] File Downloaded !\n",
            "\n",
            "[%] Downloading Image #25 from https://img-aws.ehowcdn.com/700x/cdn.onlyinyourstate.com/wp-content/uploads/2019/07/Screenshot-2019-07-15-at-10.22.18-PM-700x638.png\n",
            "[%] File Downloaded !\n",
            "\n",
            "[%] Downloading Image #26 from https://i.pinimg.com/736x/6a/11/1d/6a111d0f6fce3932a59a6dc860fa3c60--the-cherries-hungry-caterpillar.jpg\n",
            "[%] File Downloaded !\n",
            "\n",
            "[%] Downloading Image #27 from https://img.memecdn.com/so-true_o_139993.jpg\n",
            "[%] File Downloaded !\n",
            "\n",
            "[%] Downloading Image #28 from https://i.pinimg.com/originals/57/5b/40/575b40a9998e50aa8d91ff99d1e746ee.jpg\n",
            "[%] File Downloaded !\n",
            "\n",
            "[%] Downloading Image #29 from https://i.pinimg.com/originals/46/de/36/46de3684583c6a144f12bd2c5eeb9d25.jpg\n",
            "[%] File Downloaded !\n",
            "\n",
            "[%] Downloading Image #30 from http://galbanicheese.com/wp-content/uploads/2017/02/galbani_icecream-239-e1486412594396.jpg\n",
            "[%] File Downloaded !\n",
            "\n",
            "[%] Downloading Image #31 from https://i.pinimg.com/originals/5e/67/cf/5e67cfc94fa6c9e675a328b3c93adf7e.jpg\n",
            "[%] File Downloaded !\n",
            "\n",
            "[%] Downloading Image #32 from https://pics.me.me/when-your-ice-cream-falls-off-the-cone-true-despair-2470257.png\n",
            "[%] File Downloaded !\n",
            "\n",
            "[%] Downloading Image #33 from https://i.ytimg.com/vi/nq_gwAFW95M/maxresdefault.jpg\n",
            "[%] File Downloaded !\n",
            "\n",
            "[%] Downloading Image #34 from https://i.pinimg.com/originals/17/3b/a2/173ba2ed86de59e13a1b5031ebb08d02.jpg\n",
            "[%] File Downloaded !\n",
            "\n",
            "[%] Downloading Image #35 from https://i.pinimg.com/originals/c9/6d/83/c96d83060551e1d7bf81f5c51f571f18.jpg\n",
            "[%] File Downloaded !\n",
            "\n",
            "[%] Downloading Image #36 from http://3.bp.blogspot.com/-Dm5f4ghzsog/U_ZsFX3L8GI/AAAAAAAAAQw/yGK8mkCHyh0/s1600/photo%2B3.JPG\n",
            "[%] File Downloaded !\n",
            "\n",
            "[%] Downloading Image #37 from https://clearlyistamp.typepad.com/.a/6a01053570550e970b014e8a525b9e970d-600wi\n",
            "[%] File Downloaded !\n",
            "\n",
            "[%] Downloading Image #38 from https://jeanniestriedandtruerecipes.com/wp-content/uploads/2020/07/cookie-monster-ice-cream-no-churn-2m.jpg\n",
            "[%] File Downloaded !\n",
            "\n",
            "[%] Downloading Image #39 from https://ediblesouthflorida.ediblecommunities.com/sites/default/files/images/recipe/True-Coconut-Ice-Cream-(c)-Matthew-Septimus.jpg\n",
            "[%] File Downloaded !\n",
            "\n",
            "[%] Downloading Image #40 from https://i.pinimg.com/originals/02/0b/4e/020b4e9e9afb98ad44c3effb28b49e70.jpg\n",
            "[%] File Downloaded !\n",
            "\n",
            "[%] Downloading Image #41 from https://s.yimg.com/ny/api/res/1.2/lY_xr4olJjrItW0fKdEdmw--~A/YXBwaWQ9aGlnaGxhbmRlcjtzbT0xO3c9ODAw/https://s.yimg.com/cd/resizer/2.0/original/gixGJEDCoA_3HvzsdzVqCDrbhzk\n",
            "[%] File Downloaded !\n",
            "\n",
            "[%] Downloading Image #42 from https://www.thevintagenews.com/wp-content/uploads/2019/08/ice_cream_cone.jpg\n",
            "[%] File Downloaded !\n",
            "\n",
            "[%] Downloading Image #43 from https://i.pinimg.com/originals/7a/6b/5d/7a6b5df59b3e20a96b7cb79031b916d5.jpg\n",
            "[%] File Downloaded !\n",
            "\n",
            "[%] Downloading Image #44 from https://i.pinimg.com/originals/f9/9f/67/f99f67b80e072b7da5568a368aab0e8c.jpg\n",
            "[%] File Downloaded !\n",
            "\n",
            "[%] Downloading Image #45 from http://worldkings.org/userfiles/upload/images/modules/news/2018/9/20/0_262bad23b96cdae8278f41d661a38dfc.jpg\n",
            "[%] File Downloaded !\n",
            "\n",
            "[%] Downloading Image #46 from https://i.pinimg.com/originals/d2/5e/68/d25e687c143575de296292caa1edf65b.jpg\n",
            "[%] File Downloaded !\n",
            "\n",
            "[%] Downloading Image #47 from https://clearlyistamp.typepad.com/.a/6a01053570550e970b014e8a523cc8970d-600wi\n",
            "[%] File Downloaded !\n",
            "\n",
            "[%] Downloading Image #48 from https://akns-images.eonline.com/eol_images/Entire_Site/201872/rs_634x1024-180802053856-634-Reese-Witherspoon-Big-Little-Lies-Ice-Cream-LT-080218.jpg?fit=inside|900:auto&amp;output-quality=90\n",
            "[%] File Downloaded !\n",
            "\n",
            "[%] Downloading Image #49 from http://venturebeat.com/wp-content/uploads/2012/07/ice-cream-truck.jpg?w=1200&amp;strip=all\n",
            "[%] File Downloaded !\n",
            "\n",
            "[%] Downloading Image #50 from https://live.staticflickr.com/2482/4560988145_60b97a9631_b.jpg\n",
            "[%] File Downloaded !\n",
            "\n",
            "\n",
            "\n",
            "[%] Done. Downloaded 50 images.\n",
            "===============================================\n",
            "\n",
            "Please show your support here\n",
            "https://www.buymeacoffee.com/gurugaurav\n",
            "\n",
            "===============================================\n",
            "\n"
          ],
          "name": "stdout"
        }
      ]
    },
    {
      "cell_type": "code",
      "metadata": {
        "id": "Mooqi7B8DM3E",
        "colab": {
          "base_uri": "https://localhost:8080/"
        },
        "outputId": "c6f0f838-9ca3-4ff5-cfc1-af99dff390bf"
      },
      "source": [
        "!pip install ipython-autotime\n",
        "%load_ext autotime"
      ],
      "execution_count": 6,
      "outputs": [
        {
          "output_type": "stream",
          "text": [
            "Collecting ipython-autotime\n",
            "  Downloading https://files.pythonhosted.org/packages/b4/c9/b413a24f759641bc27ef98c144b590023c8038dfb8a3f09e713e9dff12c1/ipython_autotime-0.3.1-py2.py3-none-any.whl\n",
            "Requirement already satisfied: ipython in /usr/local/lib/python3.7/dist-packages (from ipython-autotime) (5.5.0)\n",
            "Requirement already satisfied: decorator in /usr/local/lib/python3.7/dist-packages (from ipython->ipython-autotime) (4.4.2)\n",
            "Requirement already satisfied: simplegeneric>0.8 in /usr/local/lib/python3.7/dist-packages (from ipython->ipython-autotime) (0.8.1)\n",
            "Requirement already satisfied: traitlets>=4.2 in /usr/local/lib/python3.7/dist-packages (from ipython->ipython-autotime) (5.0.5)\n",
            "Requirement already satisfied: prompt-toolkit<2.0.0,>=1.0.4 in /usr/local/lib/python3.7/dist-packages (from ipython->ipython-autotime) (1.0.18)\n",
            "Requirement already satisfied: pickleshare in /usr/local/lib/python3.7/dist-packages (from ipython->ipython-autotime) (0.7.5)\n",
            "Requirement already satisfied: pexpect; sys_platform != \"win32\" in /usr/local/lib/python3.7/dist-packages (from ipython->ipython-autotime) (4.8.0)\n",
            "Requirement already satisfied: pygments in /usr/local/lib/python3.7/dist-packages (from ipython->ipython-autotime) (2.6.1)\n",
            "Requirement already satisfied: setuptools>=18.5 in /usr/local/lib/python3.7/dist-packages (from ipython->ipython-autotime) (57.0.0)\n",
            "Requirement already satisfied: ipython-genutils in /usr/local/lib/python3.7/dist-packages (from traitlets>=4.2->ipython->ipython-autotime) (0.2.0)\n",
            "Requirement already satisfied: six>=1.9.0 in /usr/local/lib/python3.7/dist-packages (from prompt-toolkit<2.0.0,>=1.0.4->ipython->ipython-autotime) (1.15.0)\n",
            "Requirement already satisfied: wcwidth in /usr/local/lib/python3.7/dist-packages (from prompt-toolkit<2.0.0,>=1.0.4->ipython->ipython-autotime) (0.2.5)\n",
            "Requirement already satisfied: ptyprocess>=0.5 in /usr/local/lib/python3.7/dist-packages (from pexpect; sys_platform != \"win32\"->ipython->ipython-autotime) (0.7.0)\n",
            "Installing collected packages: ipython-autotime\n",
            "Successfully installed ipython-autotime-0.3.1\n",
            "time: 167 µs (started: 2021-06-26 16:47:21 +00:00)\n"
          ],
          "name": "stdout"
        }
      ]
    },
    {
      "cell_type": "code",
      "metadata": {
        "colab": {
          "base_uri": "https://localhost:8080/"
        },
        "id": "gkH0yG_8D7vc",
        "outputId": "84817635-45cf-461a-ff68-64da595bac76"
      },
      "source": [
        "import os\n",
        "import matplotlib.pyplot as plt\n",
        "import numpy as np\n",
        "from skimage.io import imread\n",
        "from skimage.transform import resize\n",
        "\n",
        "target = []\n",
        "images = []\n",
        "flat_data = []\n",
        "\n",
        "DATADIR = '/content/images'\n",
        "CATEGORIES = ['pretty rose','ice cream cone']\n",
        "\n",
        "for category in CATEGORIES:\n",
        "  class_num = CATEGORIES.index(category) # Label Encoding the values\n",
        "  path = os.path.join(DATADIR,category) # Create path to use all the images\n",
        "  for img in os.listdir(path):\n",
        "    img_array = imread(os.path.join(path,img))\n",
        "    img_resized = resize(img_array,(150,150,3)) # Normalizes the value from 0 to 1\n",
        "    flat_data.append(img_resized.flatten())\n",
        "    images.append(img_resized)\n",
        "    target.append(class_num)\n",
        "\n",
        "flat_data = np.array(flat_data)\n",
        "target = np.array(target)\n",
        "images = np.array(images)\n"
      ],
      "execution_count": 7,
      "outputs": [
        {
          "output_type": "stream",
          "text": [
            "time: 15.1 s (started: 2021-06-26 16:47:25 +00:00)\n"
          ],
          "name": "stdout"
        }
      ]
    },
    {
      "cell_type": "code",
      "metadata": {
        "id": "GaOpUUX6JDj_",
        "colab": {
          "base_uri": "https://localhost:8080/"
        },
        "outputId": "11891dec-27fd-4948-ec59-a6bc8e60f1fe"
      },
      "source": [
        "target"
      ],
      "execution_count": null,
      "outputs": [
        {
          "output_type": "execute_result",
          "data": {
            "text/plain": [
              "array([0, 0, 0, 0, 0, 0, 0, 0, 0, 0, 0, 0, 0, 0, 0, 0, 0, 0, 0, 0, 0, 0,\n",
              "       0, 0, 0, 0, 0, 0, 0, 0, 0, 0, 0, 0, 0, 0, 0, 0, 0, 0, 0, 0, 0, 0,\n",
              "       0, 0, 0, 0, 0, 0, 1, 1, 1, 1, 1, 1, 1, 1, 1, 1, 1, 1, 1, 1, 1, 1,\n",
              "       1, 1, 1, 1, 1, 1, 1, 1, 1, 1, 1, 1, 1, 1, 1, 1, 1, 1, 1, 1, 1, 1,\n",
              "       1, 1, 1, 1, 1, 1, 1, 1, 1, 1, 1, 1, 1, 1, 1, 1, 1])"
            ]
          },
          "metadata": {
            "tags": []
          },
          "execution_count": 5
        },
        {
          "output_type": "stream",
          "text": [
            "time: 6.37 ms (started: 2021-06-12 13:05:19 +00:00)\n"
          ],
          "name": "stdout"
        }
      ]
    },
    {
      "cell_type": "code",
      "metadata": {
        "colab": {
          "base_uri": "https://localhost:8080/"
        },
        "id": "J6X0pLf4Kadc",
        "outputId": "bcb9bdef-55b0-4562-c790-5ae36e45f18b"
      },
      "source": [
        "len(flat_data[0])\n"
      ],
      "execution_count": null,
      "outputs": [
        {
          "output_type": "execute_result",
          "data": {
            "text/plain": [
              "67500"
            ]
          },
          "metadata": {
            "tags": []
          },
          "execution_count": 6
        },
        {
          "output_type": "stream",
          "text": [
            "time: 3.76 ms (started: 2021-06-12 13:05:21 +00:00)\n"
          ],
          "name": "stdout"
        }
      ]
    },
    {
      "cell_type": "code",
      "metadata": {
        "id": "v8KxpKHiKiip",
        "colab": {
          "base_uri": "https://localhost:8080/",
          "height": 299
        },
        "outputId": "1ef2c7d8-4e96-440a-fe00-d1a59d6fe68c"
      },
      "source": [
        "unique,count = np.unique(target,return_counts=True)\n",
        "plt.bar(CATEGORIES,count)"
      ],
      "execution_count": 8,
      "outputs": [
        {
          "output_type": "execute_result",
          "data": {
            "text/plain": [
              "<BarContainer object of 2 artists>"
            ]
          },
          "metadata": {
            "tags": []
          },
          "execution_count": 8
        },
        {
          "output_type": "display_data",
          "data": {
            "image/png": "[encoded data removed]",
            "text/plain": [
              "<Figure size 432x288 with 1 Axes>"
            ]
          },
          "metadata": {
            "tags": [],
            "needs_background": "light"
          }
        },
        {
          "output_type": "stream",
          "text": [
            "time: 128 ms (started: 2021-06-26 16:47:48 +00:00)\n"
          ],
          "name": "stdout"
        }
      ]
    },
    {
      "cell_type": "code",
      "metadata": {
        "id": "YvneagOwGZ8d",
        "colab": {
          "base_uri": "https://localhost:8080/"
        },
        "outputId": "e53bed66-f971-453e-bb43-061ed20f3503"
      },
      "source": [
        "from sklearn.model_selection import train_test_split\n",
        "x_train,x_test,y_train,y_test = train_test_split(flat_data,target,\n",
        "                                  test_size=0.3,random_state=109)\n"
      ],
      "execution_count": 9,
      "outputs": [
        {
          "output_type": "stream",
          "text": [
            "time: 189 ms (started: 2021-06-26 16:47:54 +00:00)\n"
          ],
          "name": "stdout"
        }
      ]
    },
    {
      "cell_type": "code",
      "metadata": {
        "colab": {
          "base_uri": "https://localhost:8080/"
        },
        "id": "Ci4WC3vSStaQ",
        "outputId": "29840de0-0024-4e4d-e736-10f19a5280b0"
      },
      "source": [
        "from sklearn.model_selection import GridSearchCV\n",
        "from sklearn import svm\n",
        "param_grid = [\n",
        "              {'C':[1,10,100,1000],'kernel':['linear']},\n",
        "              {'C':[1,10,100,1000],'gamma':[0.001,0.0001],'kernel':['rbf']},\n",
        "]\n",
        "\n",
        "svc = svm.SVC(probability=True)\n",
        "clf = GridSearchCV(svc,param_grid)\n",
        "clf.fit(x_train,y_train)\n"
      ],
      "execution_count": 10,
      "outputs": [
        {
          "output_type": "execute_result",
          "data": {
            "text/plain": [
              "GridSearchCV(cv=None, error_score=nan,\n",
              "             estimator=SVC(C=1.0, break_ties=False, cache_size=200,\n",
              "                           class_weight=None, coef0=0.0,\n",
              "                           decision_function_shape='ovr', degree=3,\n",
              "                           gamma='scale', kernel='rbf', max_iter=-1,\n",
              "                           probability=True, random_state=None, shrinking=True,\n",
              "                           tol=0.001, verbose=False),\n",
              "             iid='deprecated', n_jobs=None,\n",
              "             param_grid=[{'C': [1, 10, 100, 1000], 'kernel': ['linear']},\n",
              "                         {'C': [1, 10, 100, 1000], 'gamma': [0.001, 0.0001],\n",
              "                          'kernel': ['rbf']}],\n",
              "             pre_dispatch='2*n_jobs', refit=True, return_train_score=False,\n",
              "             scoring=None, verbose=0)"
            ]
          },
          "metadata": {
            "tags": []
          },
          "execution_count": 10
        },
        {
          "output_type": "stream",
          "text": [
            "time: 1min 14s (started: 2021-06-26 16:47:56 +00:00)\n"
          ],
          "name": "stdout"
        }
      ]
    },
    {
      "cell_type": "code",
      "metadata": {
        "colab": {
          "base_uri": "https://localhost:8080/"
        },
        "id": "GjkumBpTVtuh",
        "outputId": "c870dd8f-cdcd-47e8-ff00-15c12cc1ef80"
      },
      "source": [
        "y_pred = clf.predict(x_test)\n",
        "y_pred\n"
      ],
      "execution_count": 11,
      "outputs": [
        {
          "output_type": "execute_result",
          "data": {
            "text/plain": [
              "array([1, 1, 1, 0, 0, 1, 0, 0, 0, 1, 1, 1, 0, 1, 1, 0, 1, 0, 1, 1, 0, 1,\n",
              "       1, 1, 1, 0, 1, 0, 0, 0])"
            ]
          },
          "metadata": {
            "tags": []
          },
          "execution_count": 11
        },
        {
          "output_type": "stream",
          "text": [
            "time: 152 ms (started: 2021-06-26 16:49:15 +00:00)\n"
          ],
          "name": "stdout"
        }
      ]
    },
    {
      "cell_type": "code",
      "metadata": {
        "colab": {
          "base_uri": "https://localhost:8080/"
        },
        "id": "5Rr8Kj4bV7VQ",
        "outputId": "64fb0ce2-24fd-4d50-b23c-2a71b00903fe"
      },
      "source": [
        "y_test"
      ],
      "execution_count": null,
      "outputs": [
        {
          "output_type": "execute_result",
          "data": {
            "text/plain": [
              "array([0, 1, 0, 1, 0, 1, 1, 1, 1, 1, 1, 1, 1, 0, 0, 0, 0, 0, 1, 1, 1, 1,\n",
              "       0, 1, 0, 0, 0, 1, 0, 0, 0, 1])"
            ]
          },
          "metadata": {
            "tags": []
          },
          "execution_count": 15
        },
        {
          "output_type": "stream",
          "text": [
            "time: 3.63 ms (started: 2021-06-12 13:09:53 +00:00)\n"
          ],
          "name": "stdout"
        }
      ]
    },
    {
      "cell_type": "code",
      "metadata": {
        "colab": {
          "base_uri": "https://localhost:8080/"
        },
        "id": "VLszb6j4Vwgg",
        "outputId": "94cf748e-6b9c-4372-eb74-d60b173f7141"
      },
      "source": [
        "from sklearn.metrics import accuracy_score,confusion_matrix"
      ],
      "execution_count": 12,
      "outputs": [
        {
          "output_type": "stream",
          "text": [
            "time: 767 µs (started: 2021-06-26 16:49:18 +00:00)\n"
          ],
          "name": "stdout"
        }
      ]
    },
    {
      "cell_type": "code",
      "metadata": {
        "id": "D4lZeMGjVy1A"
      },
      "source": [
        "accuracy_score(y_pred,y_test)"
      ],
      "execution_count": null,
      "outputs": []
    },
    {
      "cell_type": "code",
      "metadata": {
        "colab": {
          "base_uri": "https://localhost:8080/"
        },
        "id": "XtBMpLtjWInf",
        "outputId": "799a5073-7015-4515-c4ea-59201ff955d7"
      },
      "source": [
        "confusion_matrix(y_pred,y_test)"
      ],
      "execution_count": null,
      "outputs": [
        {
          "output_type": "execute_result",
          "data": {
            "text/plain": [
              "array([[ 8,  5],\n",
              "       [ 7, 12]])"
            ]
          },
          "metadata": {
            "tags": []
          },
          "execution_count": 18
        },
        {
          "output_type": "stream",
          "text": [
            "time: 7.35 ms (started: 2021-06-12 13:10:44 +00:00)\n"
          ],
          "name": "stdout"
        }
      ]
    },
    {
      "cell_type": "code",
      "metadata": {
        "colab": {
          "base_uri": "https://localhost:8080/"
        },
        "id": "4bwUHVc8WfOh",
        "outputId": "9e5dadf1-7c3d-4274-ed71-794f15521dcb"
      },
      "source": [
        "import pickle\n",
        "pickle.dump(clf,open('img_model.p','wb'))"
      ],
      "execution_count": 14,
      "outputs": [
        {
          "output_type": "stream",
          "text": [
            "time: 28.6 ms (started: 2021-06-26 16:49:30 +00:00)\n"
          ],
          "name": "stdout"
        }
      ]
    },
    {
      "cell_type": "code",
      "metadata": {
        "colab": {
          "base_uri": "https://localhost:8080/"
        },
        "id": "hTTxZ61KWjGY",
        "outputId": "a9162458-fa83-48af-8c00-3bd030b8681e"
      },
      "source": [
        "model = pickle.load(open('img_model.p','rb'))"
      ],
      "execution_count": 15,
      "outputs": [
        {
          "output_type": "stream",
          "text": [
            "time: 16.7 ms (started: 2021-06-26 16:49:34 +00:00)\n"
          ],
          "name": "stdout"
        }
      ]
    },
    {
      "cell_type": "code",
      "metadata": {
        "colab": {
          "base_uri": "https://localhost:8080/",
          "height": 337
        },
        "id": "nQGc6ox4WoAY",
        "outputId": "78df36fd-72cc-4669-e640-0ec23919a849"
      },
      "source": [
        "flat_data = []\n",
        "url = input('Enter your URL')\n",
        "img = imread(url)\n",
        "img_resized = resize(img,(150,150,3))\n",
        "flat_data.append(img_resized.flatten())\n",
        "flat_data = np.array(flat_data)\n",
        "print(img.shape)\n",
        "plt.imshow(img_resized)\n",
        "y_out = model.predict(flat_data)\n",
        "y_out = CATEGORIES[y_out[0]]\n",
        "print(f' PREDICTED OUTPUT: {y_out}')"
      ],
      "execution_count": 16,
      "outputs": [
        {
          "output_type": "stream",
          "text": [
            "Enter your URLhttps://image.shutterstock.com/image-photo/collection-empty-ice-cream-cone-260nw-756519802.jpg\n",
            "(280, 580, 3)\n",
            " PREDICTED OUTPUT: ice cream cone\n"
          ],
          "name": "stdout"
        },
        {
          "output_type": "display_data",
          "data": {
            "image/png": "[encoded data removed]",
            "text/plain": [
              "<Figure size 432x288 with 1 Axes>"
            ]
          },
          "metadata": {
            "tags": [],
            "needs_background": "light"
          }
        },
        {
          "output_type": "stream",
          "text": [
            "time: 7.46 s (started: 2021-06-26 16:49:39 +00:00)\n"
          ],
          "name": "stdout"
        }
      ]
    },
    {
      "cell_type": "code",
      "metadata": {
        "id": "rTAr-eIzYMVI"
      },
      "source": [
        ""
      ],
      "execution_count": null,
      "outputs": []
    },
    {
      "cell_type": "code",
      "metadata": {
        "id": "h6eQJ88hZbG3"
      },
      "source": [
        ""
      ],
      "execution_count": null,
      "outputs": []
    }
  ]
}